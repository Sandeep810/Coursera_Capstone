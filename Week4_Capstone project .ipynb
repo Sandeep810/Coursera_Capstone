{
 "cells": [
  {
   "cell_type": "markdown",
   "metadata": {},
   "source": [
    "# Assignment Capstone - A Report on Business Opportunities in Downtown Toronto\n",
    "\n",
    "# By: Sandeep Gupta "
   ]
  },
  {
   "cell_type": "markdown",
   "metadata": {},
   "source": [
    "### Introduction:\n",
    "In this report I will be exploring business opportunities in a downtown area near the Keating Railway Bridge. The reasons that I chose this topic include:\n",
    "\n",
    "I live nearby so I want to explore around where I live\n",
    "I want to open up a new business in this area\n",
    "There are multiple retail stores already in this area so I don't want to have too much competition\n",
    "I want to be confident that the store that I'm about to open will establish well - i.e. maybe someone else is already doing it and is successful, so I can do the same"
   ]
  },
  {
   "cell_type": "markdown",
   "metadata": {},
   "source": [
    "### Data:\n",
    "I will be using location data from Foursquare API, which I will then conduct modification on. I set the latitude and longitude to 43°39'03.9\"N 79°20'49.3\"W. This is about the:"
   ]
  },
  {
   "cell_type": "markdown",
   "metadata": {},
   "source": [
    "### Methodology:\n",
    "I will first filter the dataset so that it only contains the columns that I need for my data analysis. Then, I will conduct calculations on the dataset and further normalize it. I will add a new column to the result with the derived values that I calculated. This will provide insight for me regarding the current business distribution of the area in question. After that, I will analyze this pattern and derive at my conclusion regarding what business I want to open."
   ]
  },
  {
   "cell_type": "code",
   "execution_count": null,
   "metadata": {},
   "outputs": [],
   "source": [
    "#!conda install -c anaconda beautifulsoup4\n",
    "#!conda install -c conda-forge geopy --yes\n",
    "#!conda install -c conda-forge folium=0.5.0 --yes"
   ]
  },
  {
   "cell_type": "code",
   "execution_count": 5,
   "metadata": {},
   "outputs": [],
   "source": [
    "import json \n",
    "from bs4 import BeautifulSoup\n",
    "import urllib.request\n",
    "from geopy.geocoders import Nominatim \n",
    "import requests \n",
    "from pandas.io.json import json_normalize \n",
    "import matplotlib.cm as cm\n",
    "import matplotlib.colors as colors\n",
    "from sklearn.cluster import KMeans\n",
    "import folium\n",
    "import pandas as pd\n",
    "import numpy as np"
   ]
  },
  {
   "cell_type": "code",
   "execution_count": 6,
   "metadata": {},
   "outputs": [],
   "source": [
    "CLIENT_ID = 'VWVNFIXR5UTHPLMEIURLBV00IS1RKIMOFLSEYIMZI0KBN0XH' # your Foursquare ID\n",
    "CLIENT_SECRET = 'P3C2GAFNYNEQYSOTMY52SNJW2JRCGPTCEP3PBNHIPJIEP4LE' # your Foursquare Secret\n",
    "VERSION = '20200512'"
   ]
  },
  {
   "cell_type": "code",
   "execution_count": 7,
   "metadata": {},
   "outputs": [],
   "source": [
    "LIMIT = 100\n",
    "lat = 43.65\n",
    "lng = -79.34\n",
    "radius = 5000\n",
    "\n",
    "url = 'https://api.foursquare.com/v2/venues/explore?&client_id={}&client_secret={}&v={}&ll={},{}&radius={}&limit={}'.format(\n",
    "    CLIENT_ID, \n",
    "    CLIENT_SECRET, \n",
    "    VERSION, \n",
    "    lat, \n",
    "    lng, \n",
    "    radius, \n",
    "    LIMIT)\n",
    "results = requests.get(url).json()"
   ]
  },
  {
   "cell_type": "code",
   "execution_count": 8,
   "metadata": {},
   "outputs": [
    {
     "data": {
      "text/html": [
       "<div>\n",
       "<style scoped>\n",
       "    .dataframe tbody tr th:only-of-type {\n",
       "        vertical-align: middle;\n",
       "    }\n",
       "\n",
       "    .dataframe tbody tr th {\n",
       "        vertical-align: top;\n",
       "    }\n",
       "\n",
       "    .dataframe thead th {\n",
       "        text-align: right;\n",
       "    }\n",
       "</style>\n",
       "<table border=\"1\" class=\"dataframe\">\n",
       "  <thead>\n",
       "    <tr style=\"text-align: right;\">\n",
       "      <th></th>\n",
       "      <th>count</th>\n",
       "      <th>Store_Type</th>\n",
       "    </tr>\n",
       "    <tr>\n",
       "      <th>Category</th>\n",
       "      <th></th>\n",
       "      <th></th>\n",
       "    </tr>\n",
       "  </thead>\n",
       "  <tbody>\n",
       "    <tr>\n",
       "      <th>Food</th>\n",
       "      <td>29</td>\n",
       "      <td>29</td>\n",
       "    </tr>\n",
       "    <tr>\n",
       "      <th>Natural</th>\n",
       "      <td>18</td>\n",
       "      <td>18</td>\n",
       "    </tr>\n",
       "    <tr>\n",
       "      <th>Shopping</th>\n",
       "      <td>18</td>\n",
       "      <td>18</td>\n",
       "    </tr>\n",
       "    <tr>\n",
       "      <th>Entertainment</th>\n",
       "      <td>12</td>\n",
       "      <td>12</td>\n",
       "    </tr>\n",
       "    <tr>\n",
       "      <th>Drink</th>\n",
       "      <td>11</td>\n",
       "      <td>11</td>\n",
       "    </tr>\n",
       "    <tr>\n",
       "      <th>Other</th>\n",
       "      <td>7</td>\n",
       "      <td>7</td>\n",
       "    </tr>\n",
       "  </tbody>\n",
       "</table>\n",
       "</div>"
      ],
      "text/plain": [
       "               count  Store_Type\n",
       "Category                        \n",
       "Food              29          29\n",
       "Natural           18          18\n",
       "Shopping          18          18\n",
       "Entertainment     12          12\n",
       "Drink             11          11\n",
       "Other              7           7"
      ]
     },
     "execution_count": 8,
     "metadata": {},
     "output_type": "execute_result"
    }
   ],
   "source": [
    "venues = results['response']['groups'][0]['items']\n",
    "# venues[0][\"venue\"][\"name\"]\n",
    "# venues[0][\"venue\"][\"categories\"][0][\"name\"]\n",
    "venue_dict = {}\n",
    "for i in venues:\n",
    "    venue_name = i[\"venue\"][\"name\"]\n",
    "    venue_type = i[\"venue\"][\"categories\"][0][\"name\"]\n",
    "    venue_dict[venue_name] = venue_type\n",
    "df = pd.DataFrame(venue_dict.items(),columns=['count', 'Store_Type'])\n",
    "\n",
    "df.loc[df['Store_Type'].str.contains('Shop|store|Market|market|Mall'),'Category'] = 'Shopping'\n",
    "df.loc[df['Store_Type'].str.contains('Diner|Restaurant|Bakery|Crepe|BBQ|Food|Cream|Pizza|Snack|Sandwic'),'Category'] = 'Food'\n",
    "df.loc[df['Store_Type'].str.contains('Bar|Caf|Brew|Pub|pub|Liqu'),'Category'] = 'Drink'\n",
    "df.loc[df['Store_Type'].str.contains('Park|Beach|Garden|Site|Lake'),'Category'] = 'Natural'\n",
    "df.loc[df['Store_Type'].str.contains('Sports|Field|Gym|Hall|Stadium|Circus|club|Perform|Theat|Spa|Skat'),'Category'] = 'Entertainment'\n",
    "df.loc[df['Store_Type'].str.contains('Dog|Neighb|Hotel|Train'),'Category'] = 'Other'\n",
    "\n",
    "\n",
    "dfnew = df.groupby([\"Category\"]).count()\n",
    "dfnew.sort_values(by=['count'],ascending=False)"
   ]
  },
  {
   "cell_type": "markdown",
   "metadata": {},
   "source": [
    "## Results:\n",
    "The results from the above table shows me that there are many restaurants and food-related businesses in this area. Following that is Natural category which include businesses such as parks and gardens, also natural sights. Then it is Shopping category, which include things like malls and small retail stores. The last on the list is the Other category which include things like hotels.\n",
    "\n",
    "## Discussion:\n",
    "For the top of the list, restaurants, I think 29 is a lot. That will be too much competition that I want to handle. Plus, given my previous work experience in the food industry, it is very tiring and I can't stand the smell of grease anymore. As for the natural category, it is not typical business types and may not be something that I want to set foot in because I'm not a 'mothernature' type of person.\n",
    "Then it is the Shopping category. With online shopping sites like Amazon and Shop.ca, it can be very difficult to attract customers as an 'offline' store. Especially when the location is in Downtown Toronto, the rent can be very high. So I don't think it will be successful. I don't believe Entertainment category is a good option for me to open up my business. More and more people are learning how to enjoy themselves at home, with online tools such as Netflix and Disney+. They can watch all the movies and shows they want without leaving their homes. So this category may not survive in long term. I think the Drink category, which includes things like bars, cafes, liquor stores, is a valid option. There is limited competition in this area as it is the second last common in the list. Also, it may be a growing area because people may want to gather after the pandemic is over. Bars and nightclubs provide a great place for people to relax and socialize in person, after social distancing orders are lifted, finally.\n",
    "\n",
    "## Conclusion:\n",
    "I conclude that I want to open up a business in the Drink category, after conducting extraneous analysis on the current business distribution in the area of Toronto where I reside. Thank you for viewing. Have a wonderful rest of your day."
   ]
  }
 ],
 "metadata": {
  "kernelspec": {
   "display_name": "Python 3",
   "language": "python",
   "name": "python3"
  },
  "language_info": {
   "codemirror_mode": {
    "name": "ipython",
    "version": 3
   },
   "file_extension": ".py",
   "mimetype": "text/x-python",
   "name": "python",
   "nbconvert_exporter": "python",
   "pygments_lexer": "ipython3",
   "version": "3.7.6"
  }
 },
 "nbformat": 4,
 "nbformat_minor": 4
}
